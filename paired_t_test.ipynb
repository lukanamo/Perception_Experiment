{
 "cells": [
  {
   "cell_type": "code",
   "execution_count": 3,
   "id": "aa367adc-8192-4476-8015-d496258bb1cf",
   "metadata": {
    "tags": []
   },
   "outputs": [
    {
     "data": {
      "text/html": [
       "<div>\n",
       "<style scoped>\n",
       "    .dataframe tbody tr th:only-of-type {\n",
       "        vertical-align: middle;\n",
       "    }\n",
       "\n",
       "    .dataframe tbody tr th {\n",
       "        vertical-align: top;\n",
       "    }\n",
       "\n",
       "    .dataframe thead th {\n",
       "        text-align: right;\n",
       "    }\n",
       "</style>\n",
       "<table border=\"1\" class=\"dataframe\">\n",
       "  <thead>\n",
       "    <tr style=\"text-align: right;\">\n",
       "      <th></th>\n",
       "      <th>participant</th>\n",
       "      <th>truehour</th>\n",
       "      <th>average_response_duration/LAYOUT1</th>\n",
       "      <th>average_response_duration/LAYOUT2</th>\n",
       "    </tr>\n",
       "  </thead>\n",
       "  <tbody>\n",
       "    <tr>\n",
       "      <th>0</th>\n",
       "      <td>1.0</td>\n",
       "      <td>8.0</td>\n",
       "      <td>2.753450</td>\n",
       "      <td>3.765111</td>\n",
       "    </tr>\n",
       "    <tr>\n",
       "      <th>1</th>\n",
       "      <td>1.0</td>\n",
       "      <td>12.0</td>\n",
       "      <td>4.180465</td>\n",
       "      <td>4.997589</td>\n",
       "    </tr>\n",
       "    <tr>\n",
       "      <th>2</th>\n",
       "      <td>1.0</td>\n",
       "      <td>18.0</td>\n",
       "      <td>4.138178</td>\n",
       "      <td>4.664619</td>\n",
       "    </tr>\n",
       "    <tr>\n",
       "      <th>3</th>\n",
       "      <td>1.0</td>\n",
       "      <td>20.0</td>\n",
       "      <td>4.793638</td>\n",
       "      <td>4.664255</td>\n",
       "    </tr>\n",
       "    <tr>\n",
       "      <th>4</th>\n",
       "      <td>NaN</td>\n",
       "      <td>NaN</td>\n",
       "      <td>NaN</td>\n",
       "      <td>NaN</td>\n",
       "    </tr>\n",
       "  </tbody>\n",
       "</table>\n",
       "</div>"
      ],
      "text/plain": [
       "   participant  truehour  average_response_duration/LAYOUT1  \\\n",
       "0          1.0       8.0                           2.753450   \n",
       "1          1.0      12.0                           4.180465   \n",
       "2          1.0      18.0                           4.138178   \n",
       "3          1.0      20.0                           4.793638   \n",
       "4          NaN       NaN                                NaN   \n",
       "\n",
       "   average_response_duration/LAYOUT2  \n",
       "0                           3.765111  \n",
       "1                           4.997589  \n",
       "2                           4.664619  \n",
       "3                           4.664255  \n",
       "4                                NaN  "
      ]
     },
     "execution_count": 3,
     "metadata": {},
     "output_type": "execute_result"
    }
   ],
   "source": [
    "import pandas as pd\n",
    "\n",
    "data_path = 'data.xlsx'\n",
    "data = pd.read_excel(data_path)\n",
    "\n",
    "data.head()"
   ]
  },
  {
   "cell_type": "code",
   "execution_count": 15,
   "id": "54e54184-0ec9-45fb-b52b-992ca9b51467",
   "metadata": {
    "tags": []
   },
   "outputs": [
    {
     "name": "stdout",
     "output_type": "stream",
     "text": [
      "Hour 8:\n",
      "T-Statistic:  0.6259182665724409 | P-value:  0.5388156322384504\n",
      "Hour 12:\n",
      "T-Statistic:  1.3290167354483575 | P-value:  0.19958252784243954\n",
      "Hour 18:\n",
      "T-Statistic:  1.84539595090932 \t | P-value:  0.0806239096059331\n",
      "Hour 20:\n",
      "T-Statistic:  1.4085309080454147 | P-value:  0.1751282876180363\n"
     ]
    }
   ],
   "source": [
    "from scipy.stats import ttest_rel\n",
    "\n",
    "def perform_paired_ttest(df, hour):\n",
    "    hour_data = df[df['truehour'] == hour]\n",
    "    \n",
    "    t_stat, p_val = ttest_rel(hour_data['average_response_duration/LAYOUT1'], \n",
    "                              hour_data['average_response_duration/LAYOUT2'])\n",
    "    \n",
    "    return t_stat, p_val\n",
    "\n",
    "t_stat_8, p_val_8 = perform_paired_ttest(data, 8)\n",
    "t_stat_12, p_val_12 = perform_paired_ttest(data, 12)\n",
    "t_stat_18, p_val_18 = perform_paired_ttest(data, 18)\n",
    "t_stat_20, p_val_20 = perform_paired_ttest(data, 20)\n",
    "\n",
    "print('Hour 8:\\nT-Statistic: ', t_stat_8, '| P-value: ', p_val_8) \n",
    "print('Hour 12:\\nT-Statistic: ', t_stat_12, '| P-value: ', p_val_12)\n",
    "print('Hour 18:\\nT-Statistic: ', t_stat_18, '\\t | P-value: ', p_val_18)\n",
    "print('Hour 20:\\nT-Statistic: ', t_stat_20, '| P-value: ', p_val_20) "
   ]
  },
  {
   "cell_type": "code",
   "execution_count": 21,
   "id": "48479815-1ed0-4cfa-ae12-5b11dbaddf18",
   "metadata": {
    "tags": []
   },
   "outputs": [
    {
     "name": "stdout",
     "output_type": "stream",
     "text": [
      "Hour 8 Statistics:\n",
      " (2.1036627508, 2.0244747388, 0.6259056113496376, 0.7449698035693378)\n",
      "Hour 12 Statistics:\n",
      " (1.9798100313649996, 1.7975414195300001, 0.860319499246079, 0.9359366215687309)\n",
      "Hour 18 Statistics:\n",
      " (2.26914634845, 2.01579890105, 0.8382188759042256, 0.836080062704419)\n",
      "Hour 20 Statistics:\n",
      " (2.18851024765, 1.9917062262999998, 0.9918188026741591, 0.9082573653638037)\n"
     ]
    }
   ],
   "source": [
    "def calculate_stats(df, hour):\n",
    "    specific_hour_data = df[df['truehour'] == hour]\n",
    "    mean1 = specific_hour_data['average_response_duration/LAYOUT1'].mean()\n",
    "    mean2 = specific_hour_data['average_response_duration/LAYOUT2'].mean()\n",
    "    std1 = specific_hour_data['average_response_duration/LAYOUT1'].std()\n",
    "    std2 = specific_hour_data['average_response_duration/LAYOUT2'].std()\n",
    "    return mean1, mean2, std1, std2\n",
    "\n",
    "stats_8 = calculate_stats(data, 8)\n",
    "stats_12 = calculate_stats(data, 12)\n",
    "stats_18 = calculate_stats(data, 18)\n",
    "stats_20 = calculate_stats(data, 20)\n",
    "\n",
    "print('Hour 8 Statistics:\\n', stats_8) \n",
    "print('Hour 12 Statistics:\\n', stats_12) \n",
    "print('Hour 18 Statistics:\\n', stats_18) \n",
    "print('Hour 20 Statistics:\\n', stats_20) "
   ]
  }
 ],
 "metadata": {
  "kernelspec": {
   "display_name": "Python 3 (ipykernel)",
   "language": "python",
   "name": "python3"
  },
  "language_info": {
   "codemirror_mode": {
    "name": "ipython",
    "version": 3
   },
   "file_extension": ".py",
   "mimetype": "text/x-python",
   "name": "python",
   "nbconvert_exporter": "python",
   "pygments_lexer": "ipython3",
   "version": "3.9.18"
  }
 },
 "nbformat": 4,
 "nbformat_minor": 5
}
